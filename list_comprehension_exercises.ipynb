{
 "cells": [
  {
   "cell_type": "code",
   "execution_count": 2,
   "metadata": {},
   "outputs": [
    {
     "name": "stdout",
     "output_type": "stream",
     "text": [
      "['MANGO', 'KIWI', 'STRAWBERRY', 'GUAVA', 'PINEAPPLE', 'MANDARIN ORANGE']\n",
      "['Mango', 'Kiwi', 'Strawberry', 'Guava', 'Pineapple', 'Mandarin orange']\n",
      "['guava', 'pineapple', 'mandarin orange']\n",
      "['mango', 'kiwi', 'strawberry']\n",
      "['strawberry', 'pineapple', 'mandarin orange']\n",
      "['mango', 'guava']\n",
      "['kiwi']\n",
      "[5, 4, 10, 5, 9, 15]\n",
      "['mango', 'strawberry', 'guava', 'pineapple', 'mandarin orange']\n",
      "[2, 4, 6, 8, 10, 256, -8, -4, -2]\n",
      "[3, 5, 7, 9, 11, 13, 17, 19, 23, 5, -9]\n",
      "[2, 3, 4, 5, 6, 7, 8, 9, 10, 11, 13, 17, 19, 23, 256, 5]\n",
      "[-8, -4, -2, -9]\n",
      "[10, 11, 13, 17, 19, 23, 256]\n",
      "[4, 9, 16, 25, 36, 49, 64, 81, 100, 121, 169, 289, 361, 529, 65536, 64, 16, 4, 25, 81]\n",
      "[-9]\n",
      "[7, 8, 9, 10, 11, 12, 13, 14, 15, 16, 18, 22, 24, 28, 261, -3, 1, 3, 10, -4]\n",
      "[2, 3, 5, 7, 11, 13, 17, 19, 23, 5]\n"
     ]
    }
   ],
   "source": [
    "# 17 list comprehension problems in python\n",
    "\n",
    "fruits = ['mango', 'kiwi', 'strawberry', 'guava', 'pineapple', 'mandarin orange']\n",
    "\n",
    "numbers = [2, 3, 4, 5, 6, 7, 8, 9, 10, 11, 13, 17, 19, 23, 256, -8, -4, -2, 5, -9]\n",
    "\n",
    "# Example for loop solution to add 1 to each number in the list\n",
    "numbers_plus_one = []\n",
    "for number in numbers:\n",
    "    numbers_plus_one.append(number + 1)\n",
    "\n",
    "# Example of using a list comprehension to create a list of the numbers plus one.\n",
    "numbers_plus_one = [number + 1 for number in numbers]\n",
    "\n",
    "# Example code that creates a list of all of the list of strings in fruits and uppercases every string\n",
    "output = []\n",
    "for fruit in fruits:\n",
    "    output.append(fruit.upper())\n",
    "    \n",
    "# Exercise 1 - rewrite the above example code using list comprehension syntax. Make a variable named uppercased_fruits to hold the output of the list comprehension. Output should be ['MANGO', 'KIWI', etc...]\n",
    "uppercase_fruits = [fruit.upper( ) for fruit in fruits]\n",
    "print(uppercase_fruits)\n",
    "# Exercise 2 - create a variable named capitalized_fruits and use list comprehension syntax to produce output like ['Mango', 'Kiwi', 'Strawberry', etc...]\n",
    "capitalized_fruits = [fruit.capitalize() for fruit in fruits]\n",
    "print(capitalized_fruits)\n",
    "# Exercise 3 - Use a list comprehension to make a variable named fruits_with_more_than_two_vowels. Hint: You'll need a way to check if something is a vowel.\n",
    "fruits_with_more_than_two_vowels = [fruit for fruit in fruits if (fruit.count('a') + fruit.count('e') + fruit.count('i') + fruit.count('o') + fruit.count('u')) > 2]\n",
    "print(fruits_with_more_than_two_vowels)\n",
    "# Exercise 4 - make a variable named fruits_with_only_two_vowels. The result should be ['mango', 'kiwi', 'strawberry']\n",
    "fruits_with_two_vowels = [fruit for fruit in fruits if (fruit.count('a') + fruit.count('e') + fruit.count('i') + fruit.count('o') + fruit.count('u')) == 2]\n",
    "print(fruits_with_two_vowels)\n",
    "\n",
    "# Exercise 5 - make a list that contains each fruit with more than 5 characters\n",
    "long_fruit = [fruit for fruit in fruits if len(fruit) > 5]\n",
    "print(long_fruit)\n",
    "# Exercise 6 - make a list that contains each fruit with exactly 5 characters\n",
    "fruit_5 = [fruit for fruit in fruits if len(fruit) == 5]\n",
    "print(fruit_5)\n",
    "# Exercise 7 - Make a list that contains fruits that have less than 5 characters\n",
    "fruit_short = [fruit for fruit in fruits if len(fruit) < 5]\n",
    "print(fruit_short)\n",
    "# Exercise 8 - Make a list containing the number of characters in each fruit. Output would be [5, 4, 10, etc... ]\n",
    "fruit_nums = [len(fruit) for fruit in fruits]\n",
    "print(fruit_nums)\n",
    "# Exercise 9 - Make a variable named fruits_with_letter_a that contains a list of only the fruits that contain the letter \"a\"\n",
    "fruit_a = [fruit for fruit in fruits if 'a' in fruit]\n",
    "print(fruit_a)\n",
    "# Exercise 10 - Make a variable named even_numbers that holds only the even numbers \n",
    "evens = [num for num in numbers if num %2 == 0]\n",
    "print(evens)\n",
    "# Exercise 11 - Make a variable named odd_numbers that holds only the odd numbers\n",
    "odds = [num for num in numbers if num %2 != 0]\n",
    "print(odds)\n",
    "# Exercise 12 - Make a variable named positive_numbers that holds only the positive numbers\n",
    "positive = [num for num in numbers if num > 0]\n",
    "print(positive)\n",
    "# Exercise 13 - Make a variable named negative_numbers that holds only the negative numbers\n",
    "negative = [num for num in numbers if num < 0]\n",
    "print(negative)\n",
    "# Exercise 14 - use a list comprehension w/ a conditional in order to produce a list of numbers with 2 or more numerals\n",
    "num2 = [num for num in numbers if num >= 10 or num <= -10]\n",
    "print(num2)\n",
    "# Exercise 15 - Make a variable named numbers_squared that contains the numbers list with each element squared. Output is [4, 9, 16, etc...]\n",
    "numsqaure = [num ** 2 for num in numbers]\n",
    "print(numsqaure)\n",
    "# Exercise 16 - Make a variable named odd_negative_numbers that contains only the numbers that are both odd and negative.\n",
    "numoddneg = [num for num in numbers if num < 0 and num%2 != 0]\n",
    "print(numoddneg)\n",
    "# Exercise 17 - Make a variable named numbers_plus_5. In it, return a list containing each number plus five. \n",
    "numplus = [num + 5 for num in numbers]\n",
    "print(numplus)\n",
    "# BONUS Make a variable named \"primes\" that is a list containing the prime numbers in the numbers list. *Hint* you may want to make or find a helper function that determines if a given number is prime or not.\n",
    "import sympy\n",
    "primes = [number for number in numbers if sympy.isprime(number) == True]\n",
    "print(primes)"
   ]
  },
  {
   "cell_type": "code",
   "execution_count": null,
   "metadata": {},
   "outputs": [],
   "source": []
  }
 ],
 "metadata": {
  "kernelspec": {
   "display_name": "Python 3 (ipykernel)",
   "language": "python",
   "name": "python3"
  },
  "language_info": {
   "codemirror_mode": {
    "name": "ipython",
    "version": 3
   },
   "file_extension": ".py",
   "mimetype": "text/x-python",
   "name": "python",
   "nbconvert_exporter": "python",
   "pygments_lexer": "ipython3",
   "version": "3.9.13"
  },
  "vscode": {
   "interpreter": {
    "hash": "38cca0c38332a56087b24af0bc80247f4fced29cb4f7f437d91dc159adec9c4e"
   }
  }
 },
 "nbformat": 4,
 "nbformat_minor": 2
}
