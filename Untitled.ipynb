{
 "cells": [
  {
   "cell_type": "code",
   "execution_count": 5,
   "id": "9c942d54",
   "metadata": {},
   "outputs": [
    {
     "data": {
      "text/plain": [
       "bool"
      ]
     },
     "execution_count": 5,
     "metadata": {},
     "output_type": "execute_result"
    }
   ],
   "source": [
    "# First Line\n",
    "# Identifying types of variables using the type command\n",
    "type(True)\n",
    "# type gives data type of input\n"
   ]
  },
  {
   "cell_type": "code",
   "execution_count": 9,
   "id": "671ec995",
   "metadata": {},
   "outputs": [
    {
     "name": "stdout",
     "output_type": "stream",
     "text": [
      "17\n"
     ]
    }
   ],
   "source": [
    "# Assigning values to a variable\n",
    "fav_num = 12\n",
    "n = fav_num + 5\n"
   ]
  },
  {
   "cell_type": "code",
   "execution_count": 11,
   "id": "2f5ff767",
   "metadata": {
    "scrolled": true
   },
   "outputs": [
    {
     "name": "stdout",
     "output_type": "stream",
     "text": [
      "12\n",
      "17\n"
     ]
    }
   ],
   "source": [
    "# Getting an output using print\n",
    "fav_num = 12\n",
    "n = fav_num + 5\n",
    "print(fav_num)\n",
    "print(n)"
   ]
  },
  {
   "cell_type": "code",
   "execution_count": null,
   "id": "63d093b5",
   "metadata": {},
   "outputs": [],
   "source": []
  }
 ],
 "metadata": {
  "kernelspec": {
   "display_name": "Python 3 (ipykernel)",
   "language": "python",
   "name": "python3"
  },
  "language_info": {
   "codemirror_mode": {
    "name": "ipython",
    "version": 3
   },
   "file_extension": ".py",
   "mimetype": "text/x-python",
   "name": "python",
   "nbconvert_exporter": "python",
   "pygments_lexer": "ipython3",
   "version": "3.9.13"
  }
 },
 "nbformat": 4,
 "nbformat_minor": 5
}
